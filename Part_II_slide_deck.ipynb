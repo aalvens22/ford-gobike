{
 "cells": [
  {
   "cell_type": "markdown",
   "metadata": {
    "slideshow": {
     "slide_type": "slide"
    }
   },
   "source": [
    "# Part II - Slide_deck\n",
    "## by Alvens Abiola Akinkunmi\n",
    "\n",
    "## Investigation Overview\n",
    "\n",
    "> I will investigate the trends around the usage of Ford Go Bike for e.g effect of age distribution on user type, trip duration, what are the trends around usage of bikes during different days of a week, when are they used during the day, what type of rides do people use them for, etc."
   ]
  },
  {
   "cell_type": "markdown",
   "metadata": {
    "slideshow": {
     "slide_type": "slide"
    }
   },
   "source": [
    "## Dataset Overview \n",
    ">Ford GoBike System Dataset includes information about individual rides made in a bike-sharing system in **San Francisco Bay area in February, 2019**. The data set has been stored as a csv file, it has **16 fields and 183412 entries.**\n",
    " > The fields are:\n",
    " >  - User Type (Subscriber or Customer)\n",
    " >  - Bike ID\n",
    " >  - Member's Birth Year\n",
    " >  - Member's Gender\n",
    " >  - Ride Start Time\n",
    " >  - Trip Duration\n",
    " >  - Ride End Time\n",
    " >  - Start Station ID\n",
    " >  - Start Station Name\n",
    " >  - Start Station Latitude\n",
    " >  - Start Station Longitude\n",
    " >  - End Station ID\n",
    " >  - End Station Name\n",
    " >  - End Station Latitude\n",
    " >  - End Station Longitude"
   ]
  },
  {
   "cell_type": "markdown",
   "metadata": {
    "slideshow": {
     "slide_type": "skip"
    }
   },
   "source": [
    "##### Import Necessary Packages and Load the dataset"
   ]
  },
  {
   "cell_type": "code",
   "execution_count": 1,
   "metadata": {
    "slideshow": {
     "slide_type": "skip"
    }
   },
   "outputs": [],
   "source": [
    "### Import Important Packages\n",
    "import pandas as pd\n",
    "import numpy as np\n",
    "import seaborn as sb\n",
    "import matplotlib.pyplot as plt\n",
    "import math\n",
    "import calendar\n",
    "import time\n",
    "\n",
    "%matplotlib inline\n",
    "\n",
    "#Do not truncate data in cells\n",
    "pd.set_option('display.max_colwidth', None)\n",
    "\n",
    "#Do not limit number of displayed columns\n",
    "pd.set_option('display.max_columns', None)\n",
    "\n",
    "# suppress warnings from final output\n",
    "import warnings\n",
    "warnings.simplefilter(\"ignore\")"
   ]
  },
  {
   "cell_type": "code",
   "execution_count": 2,
   "metadata": {
    "slideshow": {
     "slide_type": "skip"
    }
   },
   "outputs": [],
   "source": [
    "#Import the dataset\n",
    "bike_df = pd.read_csv('fordgobike_trip_data.csv')"
   ]
  },
  {
   "cell_type": "code",
   "execution_count": 3,
   "metadata": {
    "scrolled": true,
    "slideshow": {
     "slide_type": "skip"
    }
   },
   "outputs": [
    {
     "data": {
      "text/html": [
       "<div>\n",
       "<style scoped>\n",
       "    .dataframe tbody tr th:only-of-type {\n",
       "        vertical-align: middle;\n",
       "    }\n",
       "\n",
       "    .dataframe tbody tr th {\n",
       "        vertical-align: top;\n",
       "    }\n",
       "\n",
       "    .dataframe thead th {\n",
       "        text-align: right;\n",
       "    }\n",
       "</style>\n",
       "<table border=\"1\" class=\"dataframe\">\n",
       "  <thead>\n",
       "    <tr style=\"text-align: right;\">\n",
       "      <th></th>\n",
       "      <th>0</th>\n",
       "      <th>1</th>\n",
       "      <th>2</th>\n",
       "      <th>3</th>\n",
       "    </tr>\n",
       "  </thead>\n",
       "  <tbody>\n",
       "    <tr>\n",
       "      <th>duration_sec</th>\n",
       "      <td>52185</td>\n",
       "      <td>42521</td>\n",
       "      <td>61854</td>\n",
       "      <td>36490</td>\n",
       "    </tr>\n",
       "    <tr>\n",
       "      <th>start_time</th>\n",
       "      <td>2019-02-28 17:32:10.1450</td>\n",
       "      <td>2019-02-28 18:53:21.7890</td>\n",
       "      <td>2019-02-28 12:13:13.2180</td>\n",
       "      <td>2019-02-28 17:54:26.0100</td>\n",
       "    </tr>\n",
       "    <tr>\n",
       "      <th>end_time</th>\n",
       "      <td>2019-03-01 08:01:55.9750</td>\n",
       "      <td>2019-03-01 06:42:03.0560</td>\n",
       "      <td>2019-03-01 05:24:08.1460</td>\n",
       "      <td>2019-03-01 04:02:36.8420</td>\n",
       "    </tr>\n",
       "    <tr>\n",
       "      <th>start_station_id</th>\n",
       "      <td>21</td>\n",
       "      <td>23</td>\n",
       "      <td>86</td>\n",
       "      <td>375</td>\n",
       "    </tr>\n",
       "    <tr>\n",
       "      <th>start_station_name</th>\n",
       "      <td>Montgomery St BART Station (Market St at 2nd St)</td>\n",
       "      <td>The Embarcadero at Steuart St</td>\n",
       "      <td>Market St at Dolores St</td>\n",
       "      <td>Grove St at Masonic Ave</td>\n",
       "    </tr>\n",
       "    <tr>\n",
       "      <th>start_station_latitude</th>\n",
       "      <td>37.7896</td>\n",
       "      <td>37.7915</td>\n",
       "      <td>37.7693</td>\n",
       "      <td>37.7748</td>\n",
       "    </tr>\n",
       "    <tr>\n",
       "      <th>start_station_longitude</th>\n",
       "      <td>-122.401</td>\n",
       "      <td>-122.391</td>\n",
       "      <td>-122.427</td>\n",
       "      <td>-122.447</td>\n",
       "    </tr>\n",
       "    <tr>\n",
       "      <th>end_station_id</th>\n",
       "      <td>13</td>\n",
       "      <td>81</td>\n",
       "      <td>3</td>\n",
       "      <td>70</td>\n",
       "    </tr>\n",
       "    <tr>\n",
       "      <th>end_station_name</th>\n",
       "      <td>Commercial St at Montgomery St</td>\n",
       "      <td>Berry St at 4th St</td>\n",
       "      <td>Powell St BART Station (Market St at 4th St)</td>\n",
       "      <td>Central Ave at Fell St</td>\n",
       "    </tr>\n",
       "    <tr>\n",
       "      <th>end_station_latitude</th>\n",
       "      <td>37.7942</td>\n",
       "      <td>37.7759</td>\n",
       "      <td>37.7864</td>\n",
       "      <td>37.7733</td>\n",
       "    </tr>\n",
       "    <tr>\n",
       "      <th>end_station_longitude</th>\n",
       "      <td>-122.403</td>\n",
       "      <td>-122.393</td>\n",
       "      <td>-122.405</td>\n",
       "      <td>-122.444</td>\n",
       "    </tr>\n",
       "    <tr>\n",
       "      <th>bike_id</th>\n",
       "      <td>4902</td>\n",
       "      <td>2535</td>\n",
       "      <td>5905</td>\n",
       "      <td>6638</td>\n",
       "    </tr>\n",
       "    <tr>\n",
       "      <th>user_type</th>\n",
       "      <td>Customer</td>\n",
       "      <td>Customer</td>\n",
       "      <td>Customer</td>\n",
       "      <td>Subscriber</td>\n",
       "    </tr>\n",
       "    <tr>\n",
       "      <th>member_birth_year</th>\n",
       "      <td>1984</td>\n",
       "      <td>NaN</td>\n",
       "      <td>1972</td>\n",
       "      <td>1989</td>\n",
       "    </tr>\n",
       "    <tr>\n",
       "      <th>member_gender</th>\n",
       "      <td>Male</td>\n",
       "      <td>NaN</td>\n",
       "      <td>Male</td>\n",
       "      <td>Other</td>\n",
       "    </tr>\n",
       "    <tr>\n",
       "      <th>bike_share_for_all_trip</th>\n",
       "      <td>No</td>\n",
       "      <td>No</td>\n",
       "      <td>No</td>\n",
       "      <td>No</td>\n",
       "    </tr>\n",
       "  </tbody>\n",
       "</table>\n",
       "</div>"
      ],
      "text/plain": [
       "                                                                        0  \\\n",
       "duration_sec                                                        52185   \n",
       "start_time                                       2019-02-28 17:32:10.1450   \n",
       "end_time                                         2019-03-01 08:01:55.9750   \n",
       "start_station_id                                                       21   \n",
       "start_station_name       Montgomery St BART Station (Market St at 2nd St)   \n",
       "start_station_latitude                                            37.7896   \n",
       "start_station_longitude                                          -122.401   \n",
       "end_station_id                                                         13   \n",
       "end_station_name                           Commercial St at Montgomery St   \n",
       "end_station_latitude                                              37.7942   \n",
       "end_station_longitude                                            -122.403   \n",
       "bike_id                                                              4902   \n",
       "user_type                                                        Customer   \n",
       "member_birth_year                                                    1984   \n",
       "member_gender                                                        Male   \n",
       "bike_share_for_all_trip                                                No   \n",
       "\n",
       "                                                     1  \\\n",
       "duration_sec                                     42521   \n",
       "start_time                    2019-02-28 18:53:21.7890   \n",
       "end_time                      2019-03-01 06:42:03.0560   \n",
       "start_station_id                                    23   \n",
       "start_station_name       The Embarcadero at Steuart St   \n",
       "start_station_latitude                         37.7915   \n",
       "start_station_longitude                       -122.391   \n",
       "end_station_id                                      81   \n",
       "end_station_name                    Berry St at 4th St   \n",
       "end_station_latitude                           37.7759   \n",
       "end_station_longitude                         -122.393   \n",
       "bike_id                                           2535   \n",
       "user_type                                     Customer   \n",
       "member_birth_year                                  NaN   \n",
       "member_gender                                      NaN   \n",
       "bike_share_for_all_trip                             No   \n",
       "\n",
       "                                                                    2  \\\n",
       "duration_sec                                                    61854   \n",
       "start_time                                   2019-02-28 12:13:13.2180   \n",
       "end_time                                     2019-03-01 05:24:08.1460   \n",
       "start_station_id                                                   86   \n",
       "start_station_name                            Market St at Dolores St   \n",
       "start_station_latitude                                        37.7693   \n",
       "start_station_longitude                                      -122.427   \n",
       "end_station_id                                                      3   \n",
       "end_station_name         Powell St BART Station (Market St at 4th St)   \n",
       "end_station_latitude                                          37.7864   \n",
       "end_station_longitude                                        -122.405   \n",
       "bike_id                                                          5905   \n",
       "user_type                                                    Customer   \n",
       "member_birth_year                                                1972   \n",
       "member_gender                                                    Male   \n",
       "bike_share_for_all_trip                                            No   \n",
       "\n",
       "                                                3  \n",
       "duration_sec                                36490  \n",
       "start_time               2019-02-28 17:54:26.0100  \n",
       "end_time                 2019-03-01 04:02:36.8420  \n",
       "start_station_id                              375  \n",
       "start_station_name        Grove St at Masonic Ave  \n",
       "start_station_latitude                    37.7748  \n",
       "start_station_longitude                  -122.447  \n",
       "end_station_id                                 70  \n",
       "end_station_name           Central Ave at Fell St  \n",
       "end_station_latitude                      37.7733  \n",
       "end_station_longitude                    -122.444  \n",
       "bike_id                                      6638  \n",
       "user_type                              Subscriber  \n",
       "member_birth_year                            1989  \n",
       "member_gender                               Other  \n",
       "bike_share_for_all_trip                        No  "
      ]
     },
     "execution_count": 3,
     "metadata": {},
     "output_type": "execute_result"
    }
   ],
   "source": [
    "bike_df.head(4).T"
   ]
  },
  {
   "cell_type": "code",
   "execution_count": 4,
   "metadata": {
    "slideshow": {
     "slide_type": "skip"
    }
   },
   "outputs": [
    {
     "name": "stdout",
     "output_type": "stream",
     "text": [
      "<class 'pandas.core.frame.DataFrame'>\n",
      "RangeIndex: 183412 entries, 0 to 183411\n",
      "Data columns (total 16 columns):\n",
      " #   Column                   Non-Null Count   Dtype  \n",
      "---  ------                   --------------   -----  \n",
      " 0   duration_sec             183412 non-null  int64  \n",
      " 1   start_time               183412 non-null  object \n",
      " 2   end_time                 183412 non-null  object \n",
      " 3   start_station_id         183215 non-null  float64\n",
      " 4   start_station_name       183215 non-null  object \n",
      " 5   start_station_latitude   183412 non-null  float64\n",
      " 6   start_station_longitude  183412 non-null  float64\n",
      " 7   end_station_id           183215 non-null  float64\n",
      " 8   end_station_name         183215 non-null  object \n",
      " 9   end_station_latitude     183412 non-null  float64\n",
      " 10  end_station_longitude    183412 non-null  float64\n",
      " 11  bike_id                  183412 non-null  int64  \n",
      " 12  user_type                183412 non-null  object \n",
      " 13  member_birth_year        175147 non-null  float64\n",
      " 14  member_gender            175147 non-null  object \n",
      " 15  bike_share_for_all_trip  183412 non-null  object \n",
      "dtypes: float64(7), int64(2), object(7)\n",
      "memory usage: 22.4+ MB\n"
     ]
    }
   ],
   "source": [
    "bike_df.info()"
   ]
  },
  {
   "cell_type": "code",
   "execution_count": 5,
   "metadata": {
    "slideshow": {
     "slide_type": "skip"
    }
   },
   "outputs": [
    {
     "data": {
      "text/plain": [
       "(183412, 16)"
      ]
     },
     "execution_count": 5,
     "metadata": {},
     "output_type": "execute_result"
    }
   ],
   "source": [
    "bike_df.shape"
   ]
  },
  {
   "cell_type": "code",
   "execution_count": 6,
   "metadata": {
    "slideshow": {
     "slide_type": "skip"
    }
   },
   "outputs": [
    {
     "data": {
      "text/html": [
       "<div>\n",
       "<style scoped>\n",
       "    .dataframe tbody tr th:only-of-type {\n",
       "        vertical-align: middle;\n",
       "    }\n",
       "\n",
       "    .dataframe tbody tr th {\n",
       "        vertical-align: top;\n",
       "    }\n",
       "\n",
       "    .dataframe thead th {\n",
       "        text-align: right;\n",
       "    }\n",
       "</style>\n",
       "<table border=\"1\" class=\"dataframe\">\n",
       "  <thead>\n",
       "    <tr style=\"text-align: right;\">\n",
       "      <th></th>\n",
       "      <th>duration_sec</th>\n",
       "      <th>start_station_id</th>\n",
       "      <th>start_station_latitude</th>\n",
       "      <th>start_station_longitude</th>\n",
       "      <th>end_station_id</th>\n",
       "      <th>end_station_latitude</th>\n",
       "      <th>end_station_longitude</th>\n",
       "      <th>bike_id</th>\n",
       "      <th>member_birth_year</th>\n",
       "    </tr>\n",
       "  </thead>\n",
       "  <tbody>\n",
       "    <tr>\n",
       "      <th>count</th>\n",
       "      <td>183412.000000</td>\n",
       "      <td>183215.000000</td>\n",
       "      <td>183412.000000</td>\n",
       "      <td>183412.000000</td>\n",
       "      <td>183215.000000</td>\n",
       "      <td>183412.000000</td>\n",
       "      <td>183412.000000</td>\n",
       "      <td>183412.000000</td>\n",
       "      <td>175147.000000</td>\n",
       "    </tr>\n",
       "    <tr>\n",
       "      <th>mean</th>\n",
       "      <td>726.078435</td>\n",
       "      <td>138.590427</td>\n",
       "      <td>37.771223</td>\n",
       "      <td>-122.352664</td>\n",
       "      <td>136.249123</td>\n",
       "      <td>37.771427</td>\n",
       "      <td>-122.352250</td>\n",
       "      <td>4472.906375</td>\n",
       "      <td>1984.806437</td>\n",
       "    </tr>\n",
       "    <tr>\n",
       "      <th>std</th>\n",
       "      <td>1794.389780</td>\n",
       "      <td>111.778864</td>\n",
       "      <td>0.099581</td>\n",
       "      <td>0.117097</td>\n",
       "      <td>111.515131</td>\n",
       "      <td>0.099490</td>\n",
       "      <td>0.116673</td>\n",
       "      <td>1664.383394</td>\n",
       "      <td>10.116689</td>\n",
       "    </tr>\n",
       "    <tr>\n",
       "      <th>min</th>\n",
       "      <td>61.000000</td>\n",
       "      <td>3.000000</td>\n",
       "      <td>37.317298</td>\n",
       "      <td>-122.453704</td>\n",
       "      <td>3.000000</td>\n",
       "      <td>37.317298</td>\n",
       "      <td>-122.453704</td>\n",
       "      <td>11.000000</td>\n",
       "      <td>1878.000000</td>\n",
       "    </tr>\n",
       "    <tr>\n",
       "      <th>25%</th>\n",
       "      <td>325.000000</td>\n",
       "      <td>47.000000</td>\n",
       "      <td>37.770083</td>\n",
       "      <td>-122.412408</td>\n",
       "      <td>44.000000</td>\n",
       "      <td>37.770407</td>\n",
       "      <td>-122.411726</td>\n",
       "      <td>3777.000000</td>\n",
       "      <td>1980.000000</td>\n",
       "    </tr>\n",
       "    <tr>\n",
       "      <th>50%</th>\n",
       "      <td>514.000000</td>\n",
       "      <td>104.000000</td>\n",
       "      <td>37.780760</td>\n",
       "      <td>-122.398285</td>\n",
       "      <td>100.000000</td>\n",
       "      <td>37.781010</td>\n",
       "      <td>-122.398279</td>\n",
       "      <td>4958.000000</td>\n",
       "      <td>1987.000000</td>\n",
       "    </tr>\n",
       "    <tr>\n",
       "      <th>75%</th>\n",
       "      <td>796.000000</td>\n",
       "      <td>239.000000</td>\n",
       "      <td>37.797280</td>\n",
       "      <td>-122.286533</td>\n",
       "      <td>235.000000</td>\n",
       "      <td>37.797320</td>\n",
       "      <td>-122.288045</td>\n",
       "      <td>5502.000000</td>\n",
       "      <td>1992.000000</td>\n",
       "    </tr>\n",
       "    <tr>\n",
       "      <th>max</th>\n",
       "      <td>85444.000000</td>\n",
       "      <td>398.000000</td>\n",
       "      <td>37.880222</td>\n",
       "      <td>-121.874119</td>\n",
       "      <td>398.000000</td>\n",
       "      <td>37.880222</td>\n",
       "      <td>-121.874119</td>\n",
       "      <td>6645.000000</td>\n",
       "      <td>2001.000000</td>\n",
       "    </tr>\n",
       "  </tbody>\n",
       "</table>\n",
       "</div>"
      ],
      "text/plain": [
       "        duration_sec  start_station_id  start_station_latitude  \\\n",
       "count  183412.000000     183215.000000           183412.000000   \n",
       "mean      726.078435        138.590427               37.771223   \n",
       "std      1794.389780        111.778864                0.099581   \n",
       "min        61.000000          3.000000               37.317298   \n",
       "25%       325.000000         47.000000               37.770083   \n",
       "50%       514.000000        104.000000               37.780760   \n",
       "75%       796.000000        239.000000               37.797280   \n",
       "max     85444.000000        398.000000               37.880222   \n",
       "\n",
       "       start_station_longitude  end_station_id  end_station_latitude  \\\n",
       "count            183412.000000   183215.000000         183412.000000   \n",
       "mean               -122.352664      136.249123             37.771427   \n",
       "std                   0.117097      111.515131              0.099490   \n",
       "min                -122.453704        3.000000             37.317298   \n",
       "25%                -122.412408       44.000000             37.770407   \n",
       "50%                -122.398285      100.000000             37.781010   \n",
       "75%                -122.286533      235.000000             37.797320   \n",
       "max                -121.874119      398.000000             37.880222   \n",
       "\n",
       "       end_station_longitude        bike_id  member_birth_year  \n",
       "count          183412.000000  183412.000000      175147.000000  \n",
       "mean             -122.352250    4472.906375        1984.806437  \n",
       "std                 0.116673    1664.383394          10.116689  \n",
       "min              -122.453704      11.000000        1878.000000  \n",
       "25%              -122.411726    3777.000000        1980.000000  \n",
       "50%              -122.398279    4958.000000        1987.000000  \n",
       "75%              -122.288045    5502.000000        1992.000000  \n",
       "max              -121.874119    6645.000000        2001.000000  "
      ]
     },
     "execution_count": 6,
     "metadata": {},
     "output_type": "execute_result"
    }
   ],
   "source": [
    "bike_df.describe()"
   ]
  },
  {
   "cell_type": "code",
   "execution_count": 7,
   "metadata": {
    "slideshow": {
     "slide_type": "skip"
    }
   },
   "outputs": [
    {
     "data": {
      "text/plain": [
       "Male      130651\n",
       "Female     40844\n",
       "Other       3652\n",
       "Name: member_gender, dtype: int64"
      ]
     },
     "execution_count": 7,
     "metadata": {},
     "output_type": "execute_result"
    }
   ],
   "source": [
    "bike_df['member_gender'].value_counts()"
   ]
  },
  {
   "cell_type": "code",
   "execution_count": 8,
   "metadata": {
    "slideshow": {
     "slide_type": "skip"
    }
   },
   "outputs": [
    {
     "data": {
      "text/plain": [
       "Subscriber    163544\n",
       "Customer       19868\n",
       "Name: user_type, dtype: int64"
      ]
     },
     "execution_count": 8,
     "metadata": {},
     "output_type": "execute_result"
    }
   ],
   "source": [
    "bike_df['user_type'].value_counts()"
   ]
  },
  {
   "cell_type": "code",
   "execution_count": 9,
   "metadata": {
    "slideshow": {
     "slide_type": "skip"
    }
   },
   "outputs": [
    {
     "data": {
      "text/plain": [
       "4794    191\n",
       "4814    176\n",
       "5014    174\n",
       "4422    174\n",
       "5175    173\n",
       "       ... \n",
       "5647      1\n",
       "3655      1\n",
       "1194      1\n",
       "3114      1\n",
       "5891      1\n",
       "Name: bike_id, Length: 4646, dtype: int64"
      ]
     },
     "execution_count": 9,
     "metadata": {},
     "output_type": "execute_result"
    }
   ],
   "source": [
    "bike_df['bike_id'].value_counts()"
   ]
  },
  {
   "cell_type": "code",
   "execution_count": 10,
   "metadata": {
    "slideshow": {
     "slide_type": "skip"
    }
   },
   "outputs": [
    {
     "data": {
      "text/plain": [
       "0"
      ]
     },
     "execution_count": 10,
     "metadata": {},
     "output_type": "execute_result"
    }
   ],
   "source": [
    "bike_df.duplicated().sum()"
   ]
  },
  {
   "cell_type": "markdown",
   "metadata": {
    "slideshow": {
     "slide_type": "skip"
    }
   },
   "source": [
    "##### Data Wrangling\n",
    ">First, I will make a copy of the original dataset, the look at the general fields of the dataset to remove any null values and duplicates, convert some columns to more appropriate types, remove any unrequires columns and add new columns needed for analysis. This will be done to make the dataset tidy and clean"
   ]
  },
  {
   "cell_type": "code",
   "execution_count": 11,
   "metadata": {
    "slideshow": {
     "slide_type": "skip"
    }
   },
   "outputs": [],
   "source": [
    "#make a copy of the original dataset\n",
    "bike_df_clean = bike_df.copy()"
   ]
  },
  {
   "cell_type": "markdown",
   "metadata": {
    "slideshow": {
     "slide_type": "skip"
    }
   },
   "source": [
    "###### Clean the time\n",
    "> Format the datatype for the start time, end time and also calculate different day time from these fields"
   ]
  },
  {
   "cell_type": "code",
   "execution_count": 12,
   "metadata": {
    "slideshow": {
     "slide_type": "skip"
    }
   },
   "outputs": [],
   "source": [
    "bike_df_clean['start_time'] = pd.to_datetime(bike_df_clean['start_time'])\n",
    "bike_df_clean['end_time'] = pd.to_datetime(bike_df_clean['end_time'])"
   ]
  },
  {
   "cell_type": "code",
   "execution_count": 13,
   "metadata": {
    "slideshow": {
     "slide_type": "skip"
    }
   },
   "outputs": [],
   "source": [
    "#add a derived column for day of the week\n",
    "bike_df_clean['day_of_week'] = bike_df_clean.apply(lambda row: row.start_time.day_name(), axis = 1)"
   ]
  },
  {
   "cell_type": "code",
   "execution_count": 14,
   "metadata": {
    "slideshow": {
     "slide_type": "skip"
    }
   },
   "outputs": [],
   "source": [
    "#convert different hours of the day to day time\n",
    "def getTimeOfDay(time):\n",
    "    hour = time.hour\n",
    "    if hour > 16 and hour <= 19:\n",
    "        return 'Evening'\n",
    "    if hour > 0 and hour < 6 and hour > 19 and hour < 23:\n",
    "        return 'Night'\n",
    "    if hour >= 6 and hour < 12:\n",
    "        return 'Morning'\n",
    "    if hour >= 12 and hour <= 16:\n",
    "        return 'Afternoon'"
   ]
  },
  {
   "cell_type": "code",
   "execution_count": 15,
   "metadata": {
    "slideshow": {
     "slide_type": "skip"
    }
   },
   "outputs": [],
   "source": [
    "# create a column for day time i.e evening/afternoon/evening/night\n",
    "bike_df_clean['day_time'] = bike_df_clean['start_time'].apply(lambda time: getTimeOfDay(time))"
   ]
  },
  {
   "cell_type": "markdown",
   "metadata": {
    "slideshow": {
     "slide_type": "skip"
    }
   },
   "source": [
    "###### Clean the IDs\n",
    ">convert all IDs to correct data type"
   ]
  },
  {
   "cell_type": "code",
   "execution_count": 16,
   "metadata": {
    "slideshow": {
     "slide_type": "skip"
    }
   },
   "outputs": [],
   "source": [
    "bike_df_clean['bike_id'] = bike_df_clean['bike_id'].apply(str)\n",
    "bike_df_clean['start_station_id'] = bike_df_clean['start_station_id'].apply(str)\n",
    "bike_df_clean['end_station_id'] = bike_df_clean['end_station_id'].apply(str)"
   ]
  },
  {
   "cell_type": "code",
   "execution_count": 17,
   "metadata": {
    "slideshow": {
     "slide_type": "skip"
    }
   },
   "outputs": [
    {
     "data": {
      "text/plain": [
       "(0         4902\n",
       " 1         2535\n",
       " 2         5905\n",
       " 3         6638\n",
       " 4         4898\n",
       "           ... \n",
       " 183407    4832\n",
       " 183408    4960\n",
       " 183409    3824\n",
       " 183410    5095\n",
       " 183411    1057\n",
       " Name: bike_id, Length: 183412, dtype: object,\n",
       " 0          21.0\n",
       " 1          23.0\n",
       " 2          86.0\n",
       " 3         375.0\n",
       " 4           7.0\n",
       "           ...  \n",
       " 183407     27.0\n",
       " 183408     21.0\n",
       " 183409    278.0\n",
       " 183410    220.0\n",
       " 183411     24.0\n",
       " Name: start_station_id, Length: 183412, dtype: object,\n",
       " 0          13.0\n",
       " 1          81.0\n",
       " 2           3.0\n",
       " 3          70.0\n",
       " 4         222.0\n",
       "           ...  \n",
       " 183407    324.0\n",
       " 183408     66.0\n",
       " 183409    277.0\n",
       " 183410    216.0\n",
       " 183411     37.0\n",
       " Name: end_station_id, Length: 183412, dtype: object)"
      ]
     },
     "execution_count": 17,
     "metadata": {},
     "output_type": "execute_result"
    }
   ],
   "source": [
    "bike_df_clean['bike_id'], bike_df_clean['start_station_id'], bike_df_clean['end_station_id']"
   ]
  },
  {
   "cell_type": "markdown",
   "metadata": {
    "slideshow": {
     "slide_type": "skip"
    }
   },
   "source": [
    "###### Calculate Age of Bikers\n",
    ">Check for empty and null entries, then drop them. Also, calculate the age of each biker"
   ]
  },
  {
   "cell_type": "code",
   "execution_count": 18,
   "metadata": {
    "slideshow": {
     "slide_type": "skip"
    }
   },
   "outputs": [
    {
     "data": {
      "text/plain": [
       "duration_sec               0\n",
       "start_time                 0\n",
       "end_time                   0\n",
       "start_station_id           0\n",
       "start_station_name         0\n",
       "start_station_latitude     0\n",
       "start_station_longitude    0\n",
       "end_station_id             0\n",
       "end_station_name           0\n",
       "end_station_latitude       0\n",
       "end_station_longitude      0\n",
       "bike_id                    0\n",
       "user_type                  0\n",
       "member_birth_year          0\n",
       "member_gender              0\n",
       "bike_share_for_all_trip    0\n",
       "day_of_week                0\n",
       "day_time                   0\n",
       "dtype: int64"
      ]
     },
     "execution_count": 18,
     "metadata": {},
     "output_type": "execute_result"
    }
   ],
   "source": [
    "#Drop all rows that are NaN\n",
    "no_gender_birth = bike_df_clean.dropna()\n",
    "no_gender_birth.isna().sum()"
   ]
  },
  {
   "cell_type": "code",
   "execution_count": 19,
   "metadata": {
    "slideshow": {
     "slide_type": "skip"
    }
   },
   "outputs": [],
   "source": [
    "bike_df_clean['age'] = bike_df_clean['member_birth_year'].apply(lambda x: 2019 - x)"
   ]
  },
  {
   "cell_type": "code",
   "execution_count": 20,
   "metadata": {
    "slideshow": {
     "slide_type": "skip"
    }
   },
   "outputs": [
    {
     "data": {
      "text/plain": [
       "count    175147.000000\n",
       "mean         34.193563\n",
       "std          10.116689\n",
       "min          18.000000\n",
       "25%          27.000000\n",
       "50%          32.000000\n",
       "75%          39.000000\n",
       "max         141.000000\n",
       "Name: age, dtype: float64"
      ]
     },
     "execution_count": 20,
     "metadata": {},
     "output_type": "execute_result"
    }
   ],
   "source": [
    "bike_df_clean['age'].describe()"
   ]
  },
  {
   "cell_type": "markdown",
   "metadata": {
    "slideshow": {
     "slide_type": "skip"
    }
   },
   "source": [
    "##### Convert Longitude and Latitude to distance in kilometer"
   ]
  },
  {
   "cell_type": "code",
   "execution_count": 21,
   "metadata": {
    "slideshow": {
     "slide_type": "skip"
    }
   },
   "outputs": [],
   "source": [
    "def calculateDistance(row):\n",
    "    lat1 = row['start_station_latitude']\n",
    "    lon1 = row['start_station_longitude']\n",
    "    lat2 = row['end_station_latitude']\n",
    "    lon2 = row['end_station_longitude']\n",
    "    radius = 6371 # km radius of earth\n",
    "    dlat = math.radians(lat2-lat1)\n",
    "    dlon = math.radians(lon2-lon1)\n",
    "    a = math.sin(dlat/2) * math.sin(dlat/2) + math.cos(math.radians(lat1)) \\\n",
    "        * math.cos(math.radians(lat2)) * math.sin(dlon/2) * math.sin(dlon/2)\n",
    "    c = 2 * math.atan2(math.sqrt(a), math.sqrt(1-a))\n",
    "    d = radius * c\n",
    "    return d"
   ]
  },
  {
   "cell_type": "code",
   "execution_count": 22,
   "metadata": {
    "slideshow": {
     "slide_type": "skip"
    }
   },
   "outputs": [],
   "source": [
    "bike_df_clean['distance'] = bike_df_clean.apply(lambda row: calculateDistance(row), axis=1)"
   ]
  },
  {
   "cell_type": "code",
   "execution_count": 23,
   "metadata": {
    "slideshow": {
     "slide_type": "skip"
    }
   },
   "outputs": [
    {
     "data": {
      "text/plain": [
       "0    0.544709\n",
       "1    1.742999\n",
       "2    2.704545\n",
       "3    0.260739\n",
       "4    2.409301\n",
       "Name: distance, dtype: float64"
      ]
     },
     "execution_count": 23,
     "metadata": {},
     "output_type": "execute_result"
    }
   ],
   "source": [
    "#test\n",
    "bike_df_clean.distance.head()"
   ]
  },
  {
   "cell_type": "code",
   "execution_count": 24,
   "metadata": {
    "slideshow": {
     "slide_type": "skip"
    }
   },
   "outputs": [],
   "source": [
    "#Drop the unneeded columns\n",
    "ncols = ['start_station_latitude','start_station_longitude','end_station_latitude','end_station_longitude','member_birth_year','start_station_id',\n",
    "       'start_station_name','end_station_id','end_station_name','start_time', 'end_time']\n",
    "bike_df_clean.drop(ncols, axis=1, inplace=True)"
   ]
  },
  {
   "cell_type": "markdown",
   "metadata": {
    "slideshow": {
     "slide_type": "skip"
    }
   },
   "source": [
    "##### Rename the duration column"
   ]
  },
  {
   "cell_type": "code",
   "execution_count": 25,
   "metadata": {
    "slideshow": {
     "slide_type": "skip"
    }
   },
   "outputs": [],
   "source": [
    "bike_df_clean.rename(columns= {'duration_sec':'trip_duration'}, inplace=True)"
   ]
  },
  {
   "cell_type": "code",
   "execution_count": 26,
   "metadata": {
    "scrolled": true,
    "slideshow": {
     "slide_type": "skip"
    }
   },
   "outputs": [
    {
     "data": {
      "text/plain": [
       "Index(['trip_duration', 'bike_id', 'user_type', 'member_gender',\n",
       "       'bike_share_for_all_trip', 'day_of_week', 'day_time', 'age',\n",
       "       'distance'],\n",
       "      dtype='object')"
      ]
     },
     "execution_count": 26,
     "metadata": {},
     "output_type": "execute_result"
    }
   ],
   "source": [
    "#Test\n",
    "bike_df_clean.columns"
   ]
  },
  {
   "cell_type": "code",
   "execution_count": 27,
   "metadata": {
    "slideshow": {
     "slide_type": "skip"
    }
   },
   "outputs": [],
   "source": [
    "bike_df_clean.dropna(axis=0, inplace=True)"
   ]
  },
  {
   "cell_type": "code",
   "execution_count": 28,
   "metadata": {
    "slideshow": {
     "slide_type": "skip"
    }
   },
   "outputs": [
    {
     "data": {
      "text/plain": [
       "trip_duration              0\n",
       "bike_id                    0\n",
       "user_type                  0\n",
       "member_gender              0\n",
       "bike_share_for_all_trip    0\n",
       "day_of_week                0\n",
       "day_time                   0\n",
       "age                        0\n",
       "distance                   0\n",
       "dtype: int64"
      ]
     },
     "execution_count": 28,
     "metadata": {},
     "output_type": "execute_result"
    }
   ],
   "source": [
    "bike_df_clean.isna().sum()"
   ]
  },
  {
   "cell_type": "code",
   "execution_count": 29,
   "metadata": {
    "scrolled": false,
    "slideshow": {
     "slide_type": "skip"
    }
   },
   "outputs": [
    {
     "data": {
      "text/html": [
       "<div>\n",
       "<style scoped>\n",
       "    .dataframe tbody tr th:only-of-type {\n",
       "        vertical-align: middle;\n",
       "    }\n",
       "\n",
       "    .dataframe tbody tr th {\n",
       "        vertical-align: top;\n",
       "    }\n",
       "\n",
       "    .dataframe thead th {\n",
       "        text-align: right;\n",
       "    }\n",
       "</style>\n",
       "<table border=\"1\" class=\"dataframe\">\n",
       "  <thead>\n",
       "    <tr style=\"text-align: right;\">\n",
       "      <th></th>\n",
       "      <th>trip_duration</th>\n",
       "      <th>age</th>\n",
       "      <th>distance</th>\n",
       "    </tr>\n",
       "  </thead>\n",
       "  <tbody>\n",
       "    <tr>\n",
       "      <th>count</th>\n",
       "      <td>157129.000000</td>\n",
       "      <td>157129.000000</td>\n",
       "      <td>157129.000000</td>\n",
       "    </tr>\n",
       "    <tr>\n",
       "      <th>mean</th>\n",
       "      <td>704.435629</td>\n",
       "      <td>34.448014</td>\n",
       "      <td>1.707600</td>\n",
       "    </tr>\n",
       "    <tr>\n",
       "      <th>std</th>\n",
       "      <td>1570.732430</td>\n",
       "      <td>10.157108</td>\n",
       "      <td>1.100320</td>\n",
       "    </tr>\n",
       "    <tr>\n",
       "      <th>min</th>\n",
       "      <td>61.000000</td>\n",
       "      <td>18.000000</td>\n",
       "      <td>0.000000</td>\n",
       "    </tr>\n",
       "    <tr>\n",
       "      <th>25%</th>\n",
       "      <td>328.000000</td>\n",
       "      <td>27.000000</td>\n",
       "      <td>0.929684</td>\n",
       "    </tr>\n",
       "    <tr>\n",
       "      <th>50%</th>\n",
       "      <td>517.000000</td>\n",
       "      <td>32.000000</td>\n",
       "      <td>1.446390</td>\n",
       "    </tr>\n",
       "    <tr>\n",
       "      <th>75%</th>\n",
       "      <td>795.000000</td>\n",
       "      <td>39.000000</td>\n",
       "      <td>2.246869</td>\n",
       "    </tr>\n",
       "    <tr>\n",
       "      <th>max</th>\n",
       "      <td>84548.000000</td>\n",
       "      <td>141.000000</td>\n",
       "      <td>69.469241</td>\n",
       "    </tr>\n",
       "  </tbody>\n",
       "</table>\n",
       "</div>"
      ],
      "text/plain": [
       "       trip_duration            age       distance\n",
       "count  157129.000000  157129.000000  157129.000000\n",
       "mean      704.435629      34.448014       1.707600\n",
       "std      1570.732430      10.157108       1.100320\n",
       "min        61.000000      18.000000       0.000000\n",
       "25%       328.000000      27.000000       0.929684\n",
       "50%       517.000000      32.000000       1.446390\n",
       "75%       795.000000      39.000000       2.246869\n",
       "max     84548.000000     141.000000      69.469241"
      ]
     },
     "execution_count": 29,
     "metadata": {},
     "output_type": "execute_result"
    }
   ],
   "source": [
    "bike_df_clean.describe()"
   ]
  },
  {
   "cell_type": "code",
   "execution_count": 30,
   "metadata": {
    "scrolled": true,
    "slideshow": {
     "slide_type": "skip"
    }
   },
   "outputs": [
    {
     "data": {
      "text/html": [
       "<div>\n",
       "<style scoped>\n",
       "    .dataframe tbody tr th:only-of-type {\n",
       "        vertical-align: middle;\n",
       "    }\n",
       "\n",
       "    .dataframe tbody tr th {\n",
       "        vertical-align: top;\n",
       "    }\n",
       "\n",
       "    .dataframe thead th {\n",
       "        text-align: right;\n",
       "    }\n",
       "</style>\n",
       "<table border=\"1\" class=\"dataframe\">\n",
       "  <thead>\n",
       "    <tr style=\"text-align: right;\">\n",
       "      <th></th>\n",
       "      <th>trip_duration</th>\n",
       "      <th>bike_id</th>\n",
       "      <th>user_type</th>\n",
       "      <th>member_gender</th>\n",
       "      <th>bike_share_for_all_trip</th>\n",
       "      <th>day_of_week</th>\n",
       "      <th>day_time</th>\n",
       "      <th>age</th>\n",
       "      <th>distance</th>\n",
       "    </tr>\n",
       "  </thead>\n",
       "  <tbody>\n",
       "    <tr>\n",
       "      <th>0</th>\n",
       "      <td>52185</td>\n",
       "      <td>4902</td>\n",
       "      <td>Customer</td>\n",
       "      <td>Male</td>\n",
       "      <td>No</td>\n",
       "      <td>Thursday</td>\n",
       "      <td>Evening</td>\n",
       "      <td>35.0</td>\n",
       "      <td>0.544709</td>\n",
       "    </tr>\n",
       "    <tr>\n",
       "      <th>2</th>\n",
       "      <td>61854</td>\n",
       "      <td>5905</td>\n",
       "      <td>Customer</td>\n",
       "      <td>Male</td>\n",
       "      <td>No</td>\n",
       "      <td>Thursday</td>\n",
       "      <td>Afternoon</td>\n",
       "      <td>47.0</td>\n",
       "      <td>2.704545</td>\n",
       "    </tr>\n",
       "    <tr>\n",
       "      <th>3</th>\n",
       "      <td>36490</td>\n",
       "      <td>6638</td>\n",
       "      <td>Subscriber</td>\n",
       "      <td>Other</td>\n",
       "      <td>No</td>\n",
       "      <td>Thursday</td>\n",
       "      <td>Evening</td>\n",
       "      <td>30.0</td>\n",
       "      <td>0.260739</td>\n",
       "    </tr>\n",
       "    <tr>\n",
       "      <th>199</th>\n",
       "      <td>15123</td>\n",
       "      <td>5380</td>\n",
       "      <td>Subscriber</td>\n",
       "      <td>Male</td>\n",
       "      <td>No</td>\n",
       "      <td>Thursday</td>\n",
       "      <td>Evening</td>\n",
       "      <td>39.0</td>\n",
       "      <td>2.776930</td>\n",
       "    </tr>\n",
       "    <tr>\n",
       "      <th>297</th>\n",
       "      <td>13061</td>\n",
       "      <td>5830</td>\n",
       "      <td>Subscriber</td>\n",
       "      <td>Male</td>\n",
       "      <td>No</td>\n",
       "      <td>Thursday</td>\n",
       "      <td>Evening</td>\n",
       "      <td>32.0</td>\n",
       "      <td>0.000000</td>\n",
       "    </tr>\n",
       "  </tbody>\n",
       "</table>\n",
       "</div>"
      ],
      "text/plain": [
       "     trip_duration bike_id   user_type member_gender bike_share_for_all_trip  \\\n",
       "0            52185    4902    Customer          Male                      No   \n",
       "2            61854    5905    Customer          Male                      No   \n",
       "3            36490    6638  Subscriber         Other                      No   \n",
       "199          15123    5380  Subscriber          Male                      No   \n",
       "297          13061    5830  Subscriber          Male                      No   \n",
       "\n",
       "    day_of_week   day_time   age  distance  \n",
       "0      Thursday    Evening  35.0  0.544709  \n",
       "2      Thursday  Afternoon  47.0  2.704545  \n",
       "3      Thursday    Evening  30.0  0.260739  \n",
       "199    Thursday    Evening  39.0  2.776930  \n",
       "297    Thursday    Evening  32.0  0.000000  "
      ]
     },
     "execution_count": 30,
     "metadata": {},
     "output_type": "execute_result"
    }
   ],
   "source": [
    "bike_df_clean.head()"
   ]
  },
  {
   "cell_type": "code",
   "execution_count": 31,
   "metadata": {
    "slideshow": {
     "slide_type": "skip"
    }
   },
   "outputs": [
    {
     "data": {
      "text/plain": [
       "(157129, 9)"
      ]
     },
     "execution_count": 31,
     "metadata": {},
     "output_type": "execute_result"
    }
   ],
   "source": [
    "bike_df_clean.shape"
   ]
  },
  {
   "cell_type": "code",
   "execution_count": 32,
   "metadata": {
    "slideshow": {
     "slide_type": "skip"
    }
   },
   "outputs": [],
   "source": [
    "#Save the clean dataset\n",
    "bike_df_clean.to_csv('bike_clean')"
   ]
  },
  {
   "cell_type": "markdown",
   "metadata": {
    "slideshow": {
     "slide_type": "skip"
    }
   },
   "source": [
    "### What is the structure of your dataset?\n",
    "\n",
    "> There are **157,129 trips** in the dataset with information about the duration of each trip in seconds, and also information about the user (type, gender). The dataset contains **9 fields (columns); 4 nominal (member_gender, day_of_week, day_time and bike_id), 3 numeric(trip_duration, age and distance), and 2 binary (user_type and bike_share_for_all_trip)**.\n",
    "\n",
    "### What is/are the main feature(s) of interest in your dataset?\n",
    "\n",
    "> I'm inrterested in understanding the impact of age and gender on trip duration and distance covered\n",
    "\n",
    "### What features in the dataset do you think will help support your investigation into your feature(s) of interest?\n",
    "\n",
    "> I expect that the duration of the trip is mostly affected by the gender and age of the user, also the day of the week and period of the day. I think the most important features will be the trip_duration, bike_id, user_type, member_gender, bike_share_for_all_trip, day_of_week, day_time, age and distance"
   ]
  },
  {
   "cell_type": "markdown",
   "metadata": {
    "slideshow": {
     "slide_type": "skip"
    }
   },
   "source": [
    "## UNIVARIATE EXPLORATION\n",
    "> In this section, I will investigate distributions of individual variables. I will also prepare to look at relationships between variables."
   ]
  },
  {
   "cell_type": "code",
   "execution_count": 33,
   "metadata": {
    "slideshow": {
     "slide_type": "skip"
    }
   },
   "outputs": [],
   "source": [
    "#Define the Function for the plots\n",
    "def myCountPlot(bike_df_clean, xVar, hueVar=None,color=0,palette=None,order=None):\n",
    "    # set plot dimenions\n",
    "    plt.figure(figsize=[13,4])\n",
    "    # plot\n",
    "    sb.countplot(data=bike_df_clean, x=xVar, hue=hueVar, color = sb.color_palette()[color], palette=palette, order=order, edgecolor='black')\n",
    "    # After plotting, clean the variable names\n",
    "    xVar=xVar.replace('_',\" \") #replace _ with a space\n",
    "    if hueVar:\n",
    "        hueVar=hueVar.replace('_',' ')\n",
    "    # Add title and format it\n",
    "    plt.title(f'''Distribution of {xVar} {'by' if hueVar else ''} {hueVar if hueVar else ''}'''.title(), fontsize = 14, weight ='bold')\n",
    "    # Add x label and format it\n",
    "    plt.xlabel(xVar.title(), fontsize=10, weight='bold')\n",
    "    # Add y label and format it\n",
    "    plt.ylabel('Frequency'.title(), fontsize=10, weight='bold')"
   ]
  },
  {
   "cell_type": "code",
   "execution_count": 34,
   "metadata": {
    "slideshow": {
     "slide_type": "skip"
    }
   },
   "outputs": [],
   "source": [
    "# categories in order\n",
    "time_order = ['Morning', 'Afternoon', 'Evening']\n",
    "day_order = ['Monday', 'Tuesday','Wednesday','Thursday','Friday','Saturday','Sunday']\n",
    "color = sb.color_palette()[0]"
   ]
  },
  {
   "cell_type": "markdown",
   "metadata": {
    "slideshow": {
     "slide_type": "skip"
    }
   },
   "source": [
    "##### Q1. Top 15 Ridden Bike ID Distribution"
   ]
  },
  {
   "cell_type": "code",
   "execution_count": 35,
   "metadata": {
    "slideshow": {
     "slide_type": "skip"
    }
   },
   "outputs": [],
   "source": [
    "bike_id_count= bike_df_clean['bike_id'].value_counts()[0:15]"
   ]
  },
  {
   "cell_type": "code",
   "execution_count": 36,
   "metadata": {
    "scrolled": false,
    "slideshow": {
     "slide_type": "skip"
    }
   },
   "outputs": [
    {
     "name": "stdout",
     "output_type": "stream",
     "text": [
      "4794    161\n",
      "4814    157\n",
      "4450    151\n",
      "5145    150\n",
      "4422    149\n",
      "4812    149\n",
      "5048    149\n",
      "5286    148\n",
      "5482    148\n",
      "5325    147\n",
      "4923    146\n",
      "4956    146\n",
      "4834    146\n",
      "5175    146\n",
      "5351    145\n",
      "Name: bike_id, dtype: int64\n"
     ]
    }
   ],
   "source": [
    "print(bike_id_count)"
   ]
  },
  {
   "cell_type": "code",
   "execution_count": 37,
   "metadata": {
    "scrolled": true,
    "slideshow": {
     "slide_type": "skip"
    }
   },
   "outputs": [
    {
     "data": {
      "image/png": "[encoded data removed]",
      "text/plain": [
       "<Figure size 936x288 with 1 Axes>"
      ]
     },
     "metadata": {
      "needs_background": "light"
     },
     "output_type": "display_data"
    }
   ],
   "source": [
    "plt.figure(figsize=[13,4])\n",
    "bike_id_count.plot(kind='bar', align='center')\n",
    "plt.ylabel('Bike ID Count', size=12)\n",
    "plt.xlabel('Bike ID', size=12)\n",
    "plt.title('Top 15 Ridden Bike ID Distribution', fontweight='bold',size=15);"
   ]
  },
  {
   "cell_type": "markdown",
   "metadata": {
    "slideshow": {
     "slide_type": "skip"
    }
   },
   "source": [
    " > From the visualization, a bike with id number **4794** is driven the most with a score of around **161**."
   ]
  },
  {
   "cell_type": "markdown",
   "metadata": {
    "slideshow": {
     "slide_type": "skip"
    }
   },
   "source": [
    "##### Q2. Total Trip Duration"
   ]
  },
  {
   "cell_type": "code",
   "execution_count": 38,
   "metadata": {
    "scrolled": false,
    "slideshow": {
     "slide_type": "skip"
    }
   },
   "outputs": [
    {
     "data": {
      "image/png": "[encoded data removed]",
      "text/plain": [
       "<Figure size 936x288 with 1 Axes>"
      ]
     },
     "metadata": {
      "needs_background": "light"
     },
     "output_type": "display_data"
    }
   ],
   "source": [
    "# Getting counts of each bike\n",
    "plt.figure(figsize=[13,4])\n",
    "bike_df_clean.trip_duration.hist(bins=50, log=True)\n",
    "plt.grid(b=None)\n",
    "plt.xlabel('Trip Duration (sec)')\n",
    "plt.ylabel('Frequency')\n",
    "plt.title('Distribution of Trip Duration', fontweight='bold');"
   ]
  },
  {
   "cell_type": "markdown",
   "metadata": {
    "slideshow": {
     "slide_type": "skip"
    }
   },
   "source": [
    "> It was observed that most trips are **less than 40000 seconds** long."
   ]
  },
  {
   "cell_type": "markdown",
   "metadata": {
    "slideshow": {
     "slide_type": "skip"
    }
   },
   "source": [
    "##### Q3. Total Distance covered"
   ]
  },
  {
   "cell_type": "code",
   "execution_count": 39,
   "metadata": {
    "scrolled": true,
    "slideshow": {
     "slide_type": "skip"
    }
   },
   "outputs": [
    {
     "data": {
      "image/png": "[encoded data removed]",
      "text/plain": [
       "<Figure size 936x288 with 1 Axes>"
      ]
     },
     "metadata": {
      "needs_background": "light"
     },
     "output_type": "display_data"
    }
   ],
   "source": [
    "plt.figure(figsize=[13,4])\n",
    "bike_df_clean.distance.hist(bins=50, log=True)\n",
    "plt.grid(b=None)\n",
    "plt.xlabel('Distance covered (km)')\n",
    "plt.ylabel('Frequency')\n",
    "plt.title('Distribution of Distance Travelled', fontweight='bold', fontsize=14);"
   ]
  },
  {
   "cell_type": "markdown",
   "metadata": {
    "slideshow": {
     "slide_type": "skip"
    }
   },
   "source": [
    "> It could be observed that most of the trips travelled by users are **less than 10km** with an outlier of almost about 70km travelled"
   ]
  },
  {
   "cell_type": "markdown",
   "metadata": {
    "slideshow": {
     "slide_type": "skip"
    }
   },
   "source": [
    "##### Q4. User Type Distribution"
   ]
  },
  {
   "cell_type": "code",
   "execution_count": 40,
   "metadata": {
    "slideshow": {
     "slide_type": "skip"
    }
   },
   "outputs": [],
   "source": [
    "user = bike_df_clean['user_type'].value_counts()"
   ]
  },
  {
   "cell_type": "code",
   "execution_count": 48,
   "metadata": {
    "slideshow": {
     "slide_type": "skip"
    }
   },
   "outputs": [
    {
     "data": {
      "image/png": "[encoded data removed]",
      "text/plain": [
       "<Figure size 432x432 with 1 Axes>"
      ]
     },
     "metadata": {},
     "output_type": "display_data"
    }
   ],
   "source": [
    "plt.figure(figsize=[6,6])\n",
    "plt.pie(data=bike_df_clean, x=user, labels = user.index, autopct='%1.1f%%', startangle=90, wedgeprops={'width':0.5})\n",
    "plt.axis('square')\n",
    "plt.title('Distribution based on User Type',fontweight='bold',fontsize=15)\n",
    "plt.legend(title='User Type:');"
   ]
  },
  {
   "cell_type": "markdown",
   "metadata": {
    "slideshow": {
     "slide_type": "skip"
    }
   },
   "source": [
    "> There are more subcribers with approximately **90%** of the total bikers"
   ]
  },
  {
   "cell_type": "markdown",
   "metadata": {
    "slideshow": {
     "slide_type": "skip"
    }
   },
   "source": [
    "##### Q5. Member Gender Distribution"
   ]
  },
  {
   "cell_type": "code",
   "execution_count": 42,
   "metadata": {
    "scrolled": false,
    "slideshow": {
     "slide_type": "skip"
    }
   },
   "outputs": [
    {
     "data": {
      "image/png": "[encoded data removed]",
      "text/plain": [
       "<Figure size 936x288 with 1 Axes>"
      ]
     },
     "metadata": {
      "needs_background": "light"
     },
     "output_type": "display_data"
    }
   ],
   "source": [
    "plt.figure(figsize=[13,4])\n",
    "sb.countplot(data=bike_df_clean,x='member_gender',color=color)\n",
    "plt.xlabel('Member Gender', size=12)\n",
    "plt.ylabel('Frequency', size=12)\n",
    "plt.title('Distribution based on Member Gender', fontweight='bold',fontsize=15);"
   ]
  },
  {
   "cell_type": "code",
   "execution_count": 43,
   "metadata": {
    "slideshow": {
     "slide_type": "skip"
    }
   },
   "outputs": [
    {
     "data": {
      "text/plain": [
       "Male      116263\n",
       "Female     37649\n",
       "Other       3217\n",
       "Name: member_gender, dtype: int64"
      ]
     },
     "execution_count": 43,
     "metadata": {},
     "output_type": "execute_result"
    }
   ],
   "source": [
    "bike_df_clean['member_gender'].value_counts()"
   ]
  },
  {
   "cell_type": "markdown",
   "metadata": {
    "slideshow": {
     "slide_type": "skip"
    }
   },
   "source": [
    "> There are more male gender in the total population of bikers with total of **116,263**, followed by the female gender"
   ]
  },
  {
   "cell_type": "markdown",
   "metadata": {
    "slideshow": {
     "slide_type": "skip"
    }
   },
   "source": [
    "##### Q6. Number of Members by Period of the Day"
   ]
  },
  {
   "cell_type": "code",
   "execution_count": 46,
   "metadata": {
    "scrolled": true,
    "slideshow": {
     "slide_type": "skip"
    }
   },
   "outputs": [
    {
     "data": {
      "image/png": "[encoded data removed]",
      "text/plain": [
       "<Figure size 936x288 with 1 Axes>"
      ]
     },
     "metadata": {
      "needs_background": "light"
     },
     "output_type": "display_data"
    }
   ],
   "source": [
    "plt.figure(figsize=[13,4])\n",
    "sb.countplot(data=bike_df_clean,x='day_time',color=color, order=time_order)\n",
    "plt.xlabel('Time of the Day',size=12)\n",
    "plt.ylabel('Frequency',size=12)\n",
    "plt.title('Trip Distribution by Period of the Day',fontweight='bold',size=15);"
   ]
  },
  {
   "cell_type": "code",
   "execution_count": 49,
   "metadata": {
    "slideshow": {
     "slide_type": "skip"
    }
   },
   "outputs": [
    {
     "data": {
      "text/plain": [
       "Morning      64445\n",
       "Evening      46486\n",
       "Afternoon    46198\n",
       "Name: day_time, dtype: int64"
      ]
     },
     "execution_count": 49,
     "metadata": {},
     "output_type": "execute_result"
    }
   ],
   "source": [
    "bike_df_clean['day_time'].value_counts()"
   ]
  },
  {
   "cell_type": "markdown",
   "metadata": {
    "slideshow": {
     "slide_type": "skip"
    }
   },
   "source": [
    "> From the visualization above, more trips were made in the morning with a total of **64,445** trips"
   ]
  },
  {
   "cell_type": "markdown",
   "metadata": {
    "slideshow": {
     "slide_type": "skip"
    }
   },
   "source": [
    "##### Q7. Distribution of Bike Sharing for all trip"
   ]
  },
  {
   "cell_type": "code",
   "execution_count": 50,
   "metadata": {
    "slideshow": {
     "slide_type": "skip"
    }
   },
   "outputs": [
    {
     "data": {
      "image/png": "[encoded data removed]",
      "text/plain": [
       "<Figure size 936x288 with 1 Axes>"
      ]
     },
     "metadata": {
      "needs_background": "light"
     },
     "output_type": "display_data"
    }
   ],
   "source": [
    "plt.figure(figsize=[13,4])\n",
    "sb.countplot(data=bike_df_clean,x='bike_share_for_all_trip',color=color)\n",
    "plt.xlabel('Bike Sharing',size=12)\n",
    "plt.ylabel('Frequency',size=12)\n",
    "plt.title('Sharing the Bike for all Trip',size=15,fontweight='bold');"
   ]
  },
  {
   "cell_type": "markdown",
   "metadata": {
    "slideshow": {
     "slide_type": "skip"
    }
   },
   "source": [
    "> There were less bike shared for the all trips. Most of the bikers didn't share their bikes for the trip"
   ]
  },
  {
   "cell_type": "markdown",
   "metadata": {
    "slideshow": {
     "slide_type": "slide"
    }
   },
   "source": [
    "### Age Distribution of Bikers\n",
    "From the below plot,\n",
    "> Most of the bikers are between the age of **20 and 45 years old**"
   ]
  },
  {
   "cell_type": "code",
   "execution_count": 51,
   "metadata": {
    "scrolled": true,
    "slideshow": {
     "slide_type": "subslide"
    }
   },
   "outputs": [
    {
     "data": {
      "image/png": "[encoded data removed]",
      "text/plain": [
       "<Figure size 936x288 with 1 Axes>"
      ]
     },
     "metadata": {
      "needs_background": "light"
     },
     "output_type": "display_data"
    }
   ],
   "source": [
    "bins=np.arange(18,81,3)\n",
    "plt.figure(figsize=[13,4])\n",
    "ax=plt.hist(data=bike_df_clean,x='age',bins=bins, fill=False)\n",
    "plt.xticks(np.arange(20,80,5))\n",
    "plt.xlabel('Age (years)',size=12)\n",
    "plt.ylabel('Frequency', size=12)\n",
    "plt.title('Distribution of the Age of the Users',size=15, fontweight='bold');"
   ]
  },
  {
   "cell_type": "markdown",
   "metadata": {
    "slideshow": {
     "slide_type": "skip"
    }
   },
   "source": [
    "##### Q9. Distribution by Day of the Week"
   ]
  },
  {
   "cell_type": "code",
   "execution_count": 52,
   "metadata": {
    "scrolled": true,
    "slideshow": {
     "slide_type": "skip"
    }
   },
   "outputs": [
    {
     "data": {
      "image/png": "[encoded data removed]",
      "text/plain": [
       "<Figure size 936x288 with 1 Axes>"
      ]
     },
     "metadata": {
      "needs_background": "light"
     },
     "output_type": "display_data"
    }
   ],
   "source": [
    "plt.figure(figsize=[13,4])\n",
    "sb.countplot(data=bike_df_clean, x='day_of_week',color=color, order=day_order)\n",
    "plt.xlabel('Day of the Week',size=12)\n",
    "plt.ylabel('Frequency',size=12)\n",
    "plt.title('Distribution by Day of the Week the Trip',size=15, fontweight='bold');"
   ]
  },
  {
   "cell_type": "markdown",
   "metadata": {
    "slideshow": {
     "slide_type": "skip"
    }
   },
   "source": [
    "> Most of the trips were made on **Thursdays**. Also, it seems people don't ride on weekends"
   ]
  },
  {
   "cell_type": "markdown",
   "metadata": {
    "slideshow": {
     "slide_type": "skip"
    }
   },
   "source": [
    "## Univariate Exploration Summary\n",
    "\n",
    ">   - Most of the aspect of the data collected are clean and tidy\n",
    ">   - Though it's mostly cleaned data, it has outliers in some numeric features like age and distance\n",
    "\n",
    "### Discuss the distribution(s) of your variable(s) of interest. Were there any unusual points? Did you need to perform any transformations?\n",
    "\n",
    ">  - Regarding the Duration, the curve of the duration is right skewed.\n",
    "### Of the features you investigated, were there any unusual distributions? Did you perform any operations on the data to tidy, adjust, or change the form of the data? If so, why did you do this?\n",
    "\n",
    "> - Most users are 20-45 years old. The age distribution is right skewed\n",
    "> - Most users are subscribers, males and didn't share the bike for all trip. Most trips were also made on Thursdays\n",
    "> - I removed the null values, converted start and end time to datetime and removed the unrequired columns, also had to calculate the distance convered by using the longitudinal and latitudinal locations"
   ]
  },
  {
   "cell_type": "markdown",
   "metadata": {
    "slideshow": {
     "slide_type": "skip"
    }
   },
   "source": [
    "## Bivariate Exploration\n",
    "\n",
    "> In this section, I will investigate relationships between pairs of variables in the dataset."
   ]
  },
  {
   "cell_type": "code",
   "execution_count": 53,
   "metadata": {
    "slideshow": {
     "slide_type": "skip"
    }
   },
   "outputs": [
    {
     "data": {
      "text/html": [
       "<div>\n",
       "<style scoped>\n",
       "    .dataframe tbody tr th:only-of-type {\n",
       "        vertical-align: middle;\n",
       "    }\n",
       "\n",
       "    .dataframe tbody tr th {\n",
       "        vertical-align: top;\n",
       "    }\n",
       "\n",
       "    .dataframe thead th {\n",
       "        text-align: right;\n",
       "    }\n",
       "</style>\n",
       "<table border=\"1\" class=\"dataframe\">\n",
       "  <thead>\n",
       "    <tr style=\"text-align: right;\">\n",
       "      <th></th>\n",
       "      <th>trip_duration</th>\n",
       "      <th>bike_id</th>\n",
       "      <th>user_type</th>\n",
       "      <th>bike_share_for_all_trip</th>\n",
       "      <th>day_of_week</th>\n",
       "      <th>day_time</th>\n",
       "      <th>age</th>\n",
       "      <th>distance</th>\n",
       "    </tr>\n",
       "    <tr>\n",
       "      <th>member_gender</th>\n",
       "      <th></th>\n",
       "      <th></th>\n",
       "      <th></th>\n",
       "      <th></th>\n",
       "      <th></th>\n",
       "      <th></th>\n",
       "      <th></th>\n",
       "      <th></th>\n",
       "    </tr>\n",
       "  </thead>\n",
       "  <tbody>\n",
       "    <tr>\n",
       "      <th>Male</th>\n",
       "      <td>116263</td>\n",
       "      <td>116263</td>\n",
       "      <td>116263</td>\n",
       "      <td>116263</td>\n",
       "      <td>116263</td>\n",
       "      <td>116263</td>\n",
       "      <td>116263</td>\n",
       "      <td>116263</td>\n",
       "    </tr>\n",
       "    <tr>\n",
       "      <th>Female</th>\n",
       "      <td>37649</td>\n",
       "      <td>37649</td>\n",
       "      <td>37649</td>\n",
       "      <td>37649</td>\n",
       "      <td>37649</td>\n",
       "      <td>37649</td>\n",
       "      <td>37649</td>\n",
       "      <td>37649</td>\n",
       "    </tr>\n",
       "    <tr>\n",
       "      <th>Other</th>\n",
       "      <td>3217</td>\n",
       "      <td>3217</td>\n",
       "      <td>3217</td>\n",
       "      <td>3217</td>\n",
       "      <td>3217</td>\n",
       "      <td>3217</td>\n",
       "      <td>3217</td>\n",
       "      <td>3217</td>\n",
       "    </tr>\n",
       "  </tbody>\n",
       "</table>\n",
       "</div>"
      ],
      "text/plain": [
       "               trip_duration  bike_id  user_type  bike_share_for_all_trip  \\\n",
       "member_gender                                                               \n",
       "Male                  116263   116263     116263                   116263   \n",
       "Female                 37649    37649      37649                    37649   \n",
       "Other                   3217     3217       3217                     3217   \n",
       "\n",
       "               day_of_week  day_time     age  distance  \n",
       "member_gender                                           \n",
       "Male                116263    116263  116263    116263  \n",
       "Female               37649     37649   37649     37649  \n",
       "Other                 3217      3217    3217      3217  "
      ]
     },
     "execution_count": 53,
     "metadata": {},
     "output_type": "execute_result"
    }
   ],
   "source": [
    "bike_df_clean.groupby('member_gender').count().sort_values('user_type',ascending=False)"
   ]
  },
  {
   "cell_type": "markdown",
   "metadata": {
    "slideshow": {
     "slide_type": "skip"
    }
   },
   "source": [
    "##### Q1. Correlation Matrix"
   ]
  },
  {
   "cell_type": "code",
   "execution_count": 54,
   "metadata": {
    "scrolled": true,
    "slideshow": {
     "slide_type": "skip"
    }
   },
   "outputs": [
    {
     "data": {
      "text/html": [
       "<div>\n",
       "<style scoped>\n",
       "    .dataframe tbody tr th:only-of-type {\n",
       "        vertical-align: middle;\n",
       "    }\n",
       "\n",
       "    .dataframe tbody tr th {\n",
       "        vertical-align: top;\n",
       "    }\n",
       "\n",
       "    .dataframe thead th {\n",
       "        text-align: right;\n",
       "    }\n",
       "</style>\n",
       "<table border=\"1\" class=\"dataframe\">\n",
       "  <thead>\n",
       "    <tr style=\"text-align: right;\">\n",
       "      <th></th>\n",
       "      <th>trip_duration</th>\n",
       "      <th>age</th>\n",
       "      <th>distance</th>\n",
       "    </tr>\n",
       "  </thead>\n",
       "  <tbody>\n",
       "    <tr>\n",
       "      <th>trip_duration</th>\n",
       "      <td>1.000000</td>\n",
       "      <td>0.006387</td>\n",
       "      <td>0.150522</td>\n",
       "    </tr>\n",
       "    <tr>\n",
       "      <th>age</th>\n",
       "      <td>0.006387</td>\n",
       "      <td>1.000000</td>\n",
       "      <td>0.013048</td>\n",
       "    </tr>\n",
       "    <tr>\n",
       "      <th>distance</th>\n",
       "      <td>0.150522</td>\n",
       "      <td>0.013048</td>\n",
       "      <td>1.000000</td>\n",
       "    </tr>\n",
       "  </tbody>\n",
       "</table>\n",
       "</div>"
      ],
      "text/plain": [
       "               trip_duration       age  distance\n",
       "trip_duration       1.000000  0.006387  0.150522\n",
       "age                 0.006387  1.000000  0.013048\n",
       "distance            0.150522  0.013048  1.000000"
      ]
     },
     "execution_count": 54,
     "metadata": {},
     "output_type": "execute_result"
    }
   ],
   "source": [
    "bike_df_clean[['trip_duration','age','distance']].corr()"
   ]
  },
  {
   "cell_type": "markdown",
   "metadata": {
    "slideshow": {
     "slide_type": "skip"
    }
   },
   "source": [
    "> Theres really no correlation between these variables in the table"
   ]
  },
  {
   "cell_type": "markdown",
   "metadata": {
    "slideshow": {
     "slide_type": "skip"
    }
   },
   "source": [
    "##### Member Gender vs Trip Distance"
   ]
  },
  {
   "cell_type": "code",
   "execution_count": 55,
   "metadata": {
    "scrolled": false,
    "slideshow": {
     "slide_type": "skip"
    }
   },
   "outputs": [
    {
     "data": {
      "image/png": "[encoded data removed]",
      "text/plain": [
       "<Figure size 936x288 with 1 Axes>"
      ]
     },
     "metadata": {
      "needs_background": "light"
     },
     "output_type": "display_data"
    }
   ],
   "source": [
    "plt.figure(figsize=[13,4])\n",
    "sb.boxplot(data=bike_df_clean,x='member_gender',y='distance',color=color)\n",
    "plt.yscale('log')\n",
    "plt.xlabel('Member Gender',size=12)\n",
    "plt.ylabel('Distance (km)',size=12)\n",
    "plt.title('Relationship Between Member Gender and Distance', fontweight='bold',size=15);"
   ]
  },
  {
   "cell_type": "markdown",
   "metadata": {
    "slideshow": {
     "slide_type": "skip"
    }
   },
   "source": [
    "> More male riders cover longer distance"
   ]
  },
  {
   "cell_type": "markdown",
   "metadata": {
    "slideshow": {
     "slide_type": "skip"
    }
   },
   "source": [
    "##### Q3. Relationship Between User Type and Trip Duration"
   ]
  },
  {
   "cell_type": "code",
   "execution_count": 56,
   "metadata": {
    "scrolled": false,
    "slideshow": {
     "slide_type": "skip"
    }
   },
   "outputs": [
    {
     "data": {
      "image/png": "[encoded data removed]",
      "text/plain": [
       "<Figure size 936x288 with 1 Axes>"
      ]
     },
     "metadata": {
      "needs_background": "light"
     },
     "output_type": "display_data"
    }
   ],
   "source": [
    "plt.figure(figsize=[13,4])\n",
    "sb.boxplot(data=bike_df_clean,x='user_type',y='trip_duration',color=color)\n",
    "plt.xlabel('User Type')\n",
    "plt.ylabel('Duration (Seconds)')\n",
    "plt.yscale('log')\n",
    "y_ticklocs=[100,200,500,1e3,2e3,5e3,10e3]\n",
    "y_ticklabels=['100','200','500','1k','2k','5k','10k']\n",
    "plt.yticks(y_ticklocs,y_ticklabels)\n",
    "plt.title('Effect of User Type on Trip Duration', fontweight='bold');"
   ]
  },
  {
   "cell_type": "markdown",
   "metadata": {
    "slideshow": {
     "slide_type": "skip"
    }
   },
   "source": [
    "> More Customers spent more time riding compared to the subscibers"
   ]
  },
  {
   "cell_type": "markdown",
   "metadata": {
    "slideshow": {
     "slide_type": "slide"
    }
   },
   "source": [
    "### Relationship Between Gender and Bike Sharing\n",
    "\n",
    ">The chart above shows that all member genders didn't share their bikes during trip"
   ]
  },
  {
   "cell_type": "code",
   "execution_count": 57,
   "metadata": {
    "scrolled": false,
    "slideshow": {
     "slide_type": "subslide"
    }
   },
   "outputs": [
    {
     "data": {
      "image/png": "[encoded data removed]",
      "text/plain": [
       "<Figure size 936x288 with 1 Axes>"
      ]
     },
     "metadata": {
      "needs_background": "light"
     },
     "output_type": "display_data"
    }
   ],
   "source": [
    "myCountPlot(bike_df_clean,'member_gender',hueVar='bike_share_for_all_trip', palette='Dark2')"
   ]
  },
  {
   "cell_type": "markdown",
   "metadata": {
    "slideshow": {
     "slide_type": "slide"
    }
   },
   "source": [
    "### Relationship Between Gender and User Type\n",
    "\n",
    "> All genders are more of a subscriber than a customer"
   ]
  },
  {
   "cell_type": "code",
   "execution_count": 58,
   "metadata": {
    "slideshow": {
     "slide_type": "subslide"
    }
   },
   "outputs": [
    {
     "data": {
      "image/png": "[encoded data removed]",
      "text/plain": [
       "<Figure size 936x288 with 1 Axes>"
      ]
     },
     "metadata": {
      "needs_background": "light"
     },
     "output_type": "display_data"
    }
   ],
   "source": [
    "myCountPlot(bike_df_clean,'member_gender',hueVar='user_type', palette='Dark2')"
   ]
  },
  {
   "cell_type": "markdown",
   "metadata": {
    "slideshow": {
     "slide_type": "slide"
    }
   },
   "source": [
    "### Relationship between User Type and Bike Share\n",
    "From the plot below,\n",
    ">Most subscribers didn't share their bikes during their trips, and customers didnt share their bikes at all"
   ]
  },
  {
   "cell_type": "code",
   "execution_count": 59,
   "metadata": {
    "scrolled": false,
    "slideshow": {
     "slide_type": "subslide"
    }
   },
   "outputs": [
    {
     "data": {
      "image/png": "[encoded data removed]",
      "text/plain": [
       "<Figure size 936x288 with 1 Axes>"
      ]
     },
     "metadata": {
      "needs_background": "light"
     },
     "output_type": "display_data"
    }
   ],
   "source": [
    "myCountPlot(bike_df_clean,'user_type',hueVar='bike_share_for_all_trip', palette='Dark2')"
   ]
  },
  {
   "cell_type": "markdown",
   "metadata": {
    "slideshow": {
     "slide_type": "skip"
    }
   },
   "source": [
    "##### Q7. Relationship between User Type and Age"
   ]
  },
  {
   "cell_type": "code",
   "execution_count": 60,
   "metadata": {
    "scrolled": true,
    "slideshow": {
     "slide_type": "skip"
    }
   },
   "outputs": [
    {
     "data": {
      "image/png": "[encoded data removed]",
      "text/plain": [
       "<Figure size 936x288 with 1 Axes>"
      ]
     },
     "metadata": {
      "needs_background": "light"
     },
     "output_type": "display_data"
    }
   ],
   "source": [
    "plt.figure(figsize=[13,4])\n",
    "sb.boxplot(data=bike_df_clean,x='user_type',y='age',color=color)\n",
    "plt.xlabel('User Type', size=12)\n",
    "plt.ylabel('Age Group', size=12)\n",
    "plt.yscale('log')\n",
    "y_ticklocs=[10,20,30,40,50,60,70,80,90]\n",
    "y_ticklabels=['10s','20s','30s','40s','50s','60s','70s','80s','90s']\n",
    "plt.yticks(y_ticklocs,y_ticklabels)\n",
    "plt.title('Relationship between User Type and Age Group of Users', fontweight='bold');"
   ]
  },
  {
   "cell_type": "markdown",
   "metadata": {
    "slideshow": {
     "slide_type": "skip"
    }
   },
   "source": [
    "> It could be concluded that most of both the subcribers and customers are within their late 20s, 30s and early 40s. Mean of under 40 years old"
   ]
  },
  {
   "cell_type": "markdown",
   "metadata": {
    "slideshow": {
     "slide_type": "slide"
    }
   },
   "source": [
    "### Relationship Between Member Gender and Day of the Week\n",
    "> From the plot below, it shows that most of the riders are either male or female and ride mostly during weekdays"
   ]
  },
  {
   "cell_type": "code",
   "execution_count": 61,
   "metadata": {
    "scrolled": true,
    "slideshow": {
     "slide_type": "subslide"
    }
   },
   "outputs": [
    {
     "data": {
      "image/png": "[encoded data removed]",
      "text/plain": [
       "<Figure size 936x288 with 1 Axes>"
      ]
     },
     "metadata": {
      "needs_background": "light"
     },
     "output_type": "display_data"
    }
   ],
   "source": [
    "myCountPlot(bike_df_clean,'day_of_week',hueVar='member_gender', palette='Dark2', order=day_order)"
   ]
  },
  {
   "cell_type": "markdown",
   "metadata": {
    "slideshow": {
     "slide_type": "slide"
    }
   },
   "source": [
    "### Relationship Between Member Gender and Day Time\n",
    "\n",
    "From the figure below:\n",
    "\n",
    "> For male riders, it shows that they ride more in the morning, followed by evening and then least in the afternoon\n",
    "\n",
    "> For female and the other gender, it shows that they ride more in the morning, followed by afternoon and then least in the evening"
   ]
  },
  {
   "cell_type": "code",
   "execution_count": 62,
   "metadata": {
    "scrolled": false,
    "slideshow": {
     "slide_type": "subslide"
    }
   },
   "outputs": [
    {
     "data": {
      "image/png": "[encoded data removed]",
      "text/plain": [
       "<Figure size 936x288 with 1 Axes>"
      ]
     },
     "metadata": {
      "needs_background": "light"
     },
     "output_type": "display_data"
    }
   ],
   "source": [
    "myCountPlot(bike_df_clean,'day_time',hueVar='member_gender', palette='Dark2', order=time_order)"
   ]
  },
  {
   "cell_type": "markdown",
   "metadata": {
    "slideshow": {
     "slide_type": "slide"
    }
   },
   "source": [
    "### Relationship Between User Type and Day of the Week\n",
    "> The figure below shows that there were more subscriber bikers riding during the weekdays than weekends"
   ]
  },
  {
   "cell_type": "code",
   "execution_count": 63,
   "metadata": {
    "slideshow": {
     "slide_type": "subslide"
    }
   },
   "outputs": [
    {
     "data": {
      "image/png": "[encoded data removed]",
      "text/plain": [
       "<Figure size 936x288 with 1 Axes>"
      ]
     },
     "metadata": {
      "needs_background": "light"
     },
     "output_type": "display_data"
    }
   ],
   "source": [
    "myCountPlot(bike_df_clean,'day_of_week',hueVar='user_type', palette='Dark2', order=day_order)"
   ]
  },
  {
   "cell_type": "markdown",
   "metadata": {
    "slideshow": {
     "slide_type": "slide"
    }
   },
   "source": [
    "### Relationship Between Day Time and User Type\n",
    "> For subscribers, they tend to ride more in the morning than in the evening than in the afternoon\n",
    ">For customers, they tend to ride more in the Afternoon than in the morning than in the evening"
   ]
  },
  {
   "cell_type": "code",
   "execution_count": 64,
   "metadata": {
    "scrolled": false,
    "slideshow": {
     "slide_type": "subslide"
    }
   },
   "outputs": [
    {
     "data": {
      "image/png": "[encoded data removed]",
      "text/plain": [
       "<Figure size 936x288 with 1 Axes>"
      ]
     },
     "metadata": {
      "needs_background": "light"
     },
     "output_type": "display_data"
    }
   ],
   "source": [
    "myCountPlot(bike_df_clean,'day_time',hueVar='user_type', palette='Dark2', order=time_order)"
   ]
  },
  {
   "cell_type": "markdown",
   "metadata": {
    "slideshow": {
     "slide_type": "slide"
    }
   },
   "source": [
    "##### Relationship Between Day Time and Day of the Week\n",
    "\n",
    "> The plot above shows a confirmation of high trip made during the weekdays irrespective of the period of the day"
   ]
  },
  {
   "cell_type": "code",
   "execution_count": 71,
   "metadata": {
    "slideshow": {
     "slide_type": "subslide"
    }
   },
   "outputs": [
    {
     "data": {
      "image/png": "[encoded data removed]",
      "text/plain": [
       "<Figure size 936x288 with 1 Axes>"
      ]
     },
     "metadata": {
      "needs_background": "light"
     },
     "output_type": "display_data"
    }
   ],
   "source": [
    "plt.figure(figsize=[13,4])\n",
    "sb.countplot(data=bike_df_clean,x='day_of_week',hue='day_time', order=day_order, hue_order=time_order, palette='PuBu')\n",
    "plt.xlabel('Day of the Week', size=12, labelpad=12)\n",
    "plt.ylabel('Time of th day Frequency', size=12)\n",
    "plt.legend(title='Day Time:')\n",
    "plt.title('Distribution of Day of the Week', fontweight='bold',fontsize=15);"
   ]
  },
  {
   "cell_type": "markdown",
   "metadata": {
    "slideshow": {
     "slide_type": "skip"
    }
   },
   "source": [
    "### Talk about some of the relationships you observed in this part of the investigation. How did the feature(s) of interest vary with other features in the dataset?\n",
    "\n",
    "> - The duration of the trip is inversely related to the age. The younger the user, the longer the trip.\n",
    "> - Males tend to have shorter trips than females.\n",
    "> - Users who share the bike for all trip have shorter trips than those who don't.\n",
    "> - Subscribers tend to have longer trips than customers.\n",
    "\n",
    "\n",
    "### Did you observe any interesting relationships between the other features (not the main feature(s) of interest)?\n",
    "\n",
    "> - Most users who share bikes are in the twenties of age.\n",
    "> - Bike sharing occurs only by subscribers which is intuitive."
   ]
  },
  {
   "cell_type": "markdown",
   "metadata": {
    "slideshow": {
     "slide_type": "skip"
    }
   },
   "source": [
    "## MULTIVARIATE EXPLORATION"
   ]
  },
  {
   "cell_type": "markdown",
   "metadata": {
    "slideshow": {
     "slide_type": "skip"
    }
   },
   "source": [
    "##### Q1. Correlation between Age, Gender and Bike Sharing"
   ]
  },
  {
   "cell_type": "code",
   "execution_count": 65,
   "metadata": {
    "scrolled": true,
    "slideshow": {
     "slide_type": "skip"
    }
   },
   "outputs": [
    {
     "data": {
      "image/png": "[encoded data removed]",
      "text/plain": [
       "<Figure size 936x288 with 1 Axes>"
      ]
     },
     "metadata": {
      "needs_background": "light"
     },
     "output_type": "display_data"
    }
   ],
   "source": [
    "plt.figure(figsize=[13,4])\n",
    "sb.violinplot(data=bike_df_clean,x='member_gender',y='age',hue='bike_share_for_all_trip',inner='quartile')\n",
    "plt.xlabel('Gender', labelpad=15,size=12)\n",
    "plt.ylabel('Age (Years)', size=12)\n",
    "plt.title('Correlation between Age, Gender and Bike Sharing', fontweight='bold', size=15)\n",
    "plt.legend(title='Bike Sharing:', bbox_to_anchor=(1.25,0.5));"
   ]
  },
  {
   "cell_type": "markdown",
   "metadata": {
    "slideshow": {
     "slide_type": "skip"
    }
   },
   "source": [
    "> Bike sharing is associated with younger bikers across all genders"
   ]
  },
  {
   "cell_type": "markdown",
   "metadata": {
    "slideshow": {
     "slide_type": "skip"
    }
   },
   "source": [
    "##### Q2. Correlation between Age, Gender and User Type"
   ]
  },
  {
   "cell_type": "code",
   "execution_count": 66,
   "metadata": {
    "slideshow": {
     "slide_type": "skip"
    }
   },
   "outputs": [
    {
     "data": {
      "image/png": "[encoded data removed]",
      "text/plain": [
       "<Figure size 936x288 with 1 Axes>"
      ]
     },
     "metadata": {
      "needs_background": "light"
     },
     "output_type": "display_data"
    }
   ],
   "source": [
    "plt.figure(figsize=[13,4])\n",
    "sb.violinplot(data=bike_df_clean,x='member_gender',y='age',hue='user_type',inner='quartile')\n",
    "plt.xlabel('Gender', labelpad=15, size=12)\n",
    "plt.ylabel('Age (years)', size=12)\n",
    "plt.title('Age, Gender and User Type', fontweight='bold', size=15)\n",
    "plt.legend(title='User Type', bbox_to_anchor=(1.3,0.5));"
   ]
  },
  {
   "cell_type": "markdown",
   "metadata": {
    "slideshow": {
     "slide_type": "skip"
    }
   },
   "source": [
    "> User Type is not related with neither gender nor age"
   ]
  },
  {
   "cell_type": "markdown",
   "metadata": {
    "slideshow": {
     "slide_type": "skip"
    }
   },
   "source": [
    "##### Q3. Correlation between Day time, trip duration and user type"
   ]
  },
  {
   "cell_type": "code",
   "execution_count": 68,
   "metadata": {
    "scrolled": false,
    "slideshow": {
     "slide_type": "skip"
    }
   },
   "outputs": [
    {
     "data": {
      "image/png": "[encoded data removed]",
      "text/plain": [
       "<Figure size 936x288 with 1 Axes>"
      ]
     },
     "metadata": {
      "needs_background": "light"
     },
     "output_type": "display_data"
    }
   ],
   "source": [
    "plt.figure(figsize=[13,4])\n",
    "sb.violinplot(data=bike_df_clean.query('trip_duration<trip_duration.quantile(0.995)'),x='day_time',y='trip_duration',hue='user_type',inner='quartile')\n",
    "plt.xlabel('Day Time', labelpad=15)\n",
    "plt.ylabel('Duration (Seconds)')\n",
    "plt.title('Duration, Gender and User Type')\n",
    "plt.legend(title='User Type', bbox_to_anchor=(1.3,0.5));"
   ]
  },
  {
   "cell_type": "markdown",
   "metadata": {
    "slideshow": {
     "slide_type": "skip"
    }
   },
   "source": [
    "> The plot above shows that Subcribers rode less time (shorter trip duration) irrespective of the day time"
   ]
  },
  {
   "cell_type": "markdown",
   "metadata": {
    "slideshow": {
     "slide_type": "skip"
    }
   },
   "source": [
    "### Multivariate Summary:\n",
    "\n",
    "> Most of the insights derived were just as gotten from the other types of exploaration (Univariate and Bivariate), so they are confirmations to insights from other sessions."
   ]
  },
  {
   "cell_type": "markdown",
   "metadata": {
    "slideshow": {
     "slide_type": "skip"
    }
   },
   "source": [
    "## Conclusion"
   ]
  },
  {
   "cell_type": "markdown",
   "metadata": {
    "slideshow": {
     "slide_type": "skip"
    }
   },
   "source": [
    "> I was able to use all three types of exploration: univariate, bivariate, and multivariate to explore the dataset and derive insights."
   ]
  },
  {
   "cell_type": "code",
   "execution_count": null,
   "metadata": {
    "slideshow": {
     "slide_type": "skip"
    }
   },
   "outputs": [],
   "source": [
    "# Use this command if you are running this file in local\n",
    "!jupyter nbconvert Part_II_slide_deck.ipynb --to slides --post serve --no-input --no-prompt"
   ]
  },
  {
   "cell_type": "code",
   "execution_count": null,
   "metadata": {
    "slideshow": {
     "slide_type": "subslide"
    }
   },
   "outputs": [],
   "source": []
  }
 ],
 "metadata": {
  "celltoolbar": "Slideshow",
  "kernelspec": {
   "display_name": "Python 3",
   "language": "python",
   "name": "python3"
  },
  "language_info": {
   "codemirror_mode": {
    "name": "ipython",
    "version": 3
   },
   "file_extension": ".py",
   "mimetype": "text/x-python",
   "name": "python",
   "nbconvert_exporter": "python",
   "pygments_lexer": "ipython3",
   "version": "3.7.6"
  }
 },
 "nbformat": 4,
 "nbformat_minor": 4
}
